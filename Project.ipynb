{
 "cells": [
  {
   "cell_type": "code",
   "execution_count": 264,
   "metadata": {
    "scrolled": false
   },
   "outputs": [
    {
     "data": {
      "application/vnd.plotly.v1+json": {
       "config": {
        "plotlyServerURL": "https://plot.ly"
       },
       "data": [
        {
         "hoverlabel": {
          "namelength": 0
         },
         "hovertemplate": "genre=soul and reggae<br>avg_timbre9=%{x}<br>avg_timbre10=%{y}",
         "legendgroup": "soul and reggae",
         "marker": {
          "color": "#636efa",
          "symbol": "circle"
         },
         "mode": "markers",
         "name": "soul and reggae",
         "showlegend": true,
         "type": "scatter",
         "x": [
          7.7656014967299996,
          11.6802668776,
          10.0276669267,
          0.654920560748,
          -0.176415172414,
          5.915594330399999,
          6.5767028451,
          3.40534817013,
          0.137598130841,
          8.209090820310001
         ],
         "xaxis": "x",
         "y": [
          6.401828811970001,
          14.0751350211,
          -5.905595943840001,
          13.9775056075,
          7.41789241379,
          0.8304144672529999,
          -0.9202107481559999,
          4.86873095945,
          4.12167009346,
          1.6851503906299998
         ],
         "yaxis": "y"
        },
        {
         "hoverlabel": {
          "namelength": 0
         },
         "hovertemplate": "genre=classic pop and rock<br>avg_timbre9=%{x}<br>avg_timbre10=%{y}",
         "legendgroup": "classic pop and rock",
         "marker": {
          "color": "#EF553B",
          "symbol": "circle"
         },
         "mode": "markers",
         "name": "classic pop and rock",
         "showlegend": true,
         "type": "scatter",
         "x": [
          9.31376526316,
          15.414010929000002,
          6.697040697669999,
          13.39365,
          1.9597453083099996,
          22.6917134752,
          -13.5654147521,
          6.79743100511,
          1.09287630402,
          3.52617653759
         ],
         "xaxis": "x",
         "y": [
          3.20116947368,
          4.5561366120199995,
          4.26273837209,
          3.0706785714300002,
          3.0683176943700006,
          -2.8727063829799997,
          -1.1413434099200002,
          2.96244293015,
          1.47949031297,
          1.53544874715
         ],
         "yaxis": "y"
        },
        {
         "hoverlabel": {
          "namelength": 0
         },
         "hovertemplate": "genre=metal<br>avg_timbre9=%{x}<br>avg_timbre10=%{y}",
         "legendgroup": "metal",
         "marker": {
          "color": "#00cc96",
          "symbol": "circle"
         },
         "mode": "markers",
         "name": "metal",
         "showlegend": true,
         "type": "scatter",
         "x": [
          1.77021840243,
          4.45621265823,
          -3.4335519053900003,
          4.19127091255,
          6.7928147041199995,
          -0.20192190669399998,
          -0.00649140546006,
          -0.23140846366099999,
          4.45659298246,
          -0.388439271255
         ],
         "xaxis": "x",
         "y": [
          9.085553083919999,
          11.1174481013,
          -3.18236793693,
          7.999086501900001,
          0.282344291692,
          9.57205070994,
          9.471472194139999,
          13.2091867525,
          8.2524877193,
          9.405401821860002
         ],
         "yaxis": "y"
        },
        {
         "hoverlabel": {
          "namelength": 0
         },
         "hovertemplate": "genre=pop<br>avg_timbre9=%{x}<br>avg_timbre10=%{y}",
         "legendgroup": "pop",
         "marker": {
          "color": "#ab63fa",
          "symbol": "circle"
         },
         "mode": "markers",
         "name": "pop",
         "showlegend": true,
         "type": "scatter",
         "x": [
          -4.71678090767,
          11.1671707317,
          -2.2525108932499998,
          10.884280245,
          9.2730565046,
          6.48935702746,
          11.9741804949,
          3.4123699906800002,
          7.690104669889999,
          8.59515502555
         ],
         "xaxis": "x",
         "y": [
          1.9308059467900003,
          -0.336124518614,
          4.337226579519999,
          5.111949464009999,
          0.17056504599199998,
          0.693169628433,
          2.29272489083,
          1.15563653308,
          4.64091626409,
          -2.3952521294699998
         ],
         "yaxis": "y"
        },
        {
         "hoverlabel": {
          "namelength": 0
         },
         "hovertemplate": "genre=classical<br>avg_timbre9=%{x}<br>avg_timbre10=%{y}",
         "legendgroup": "classical",
         "marker": {
          "color": "#FFA15A",
          "symbol": "circle"
         },
         "mode": "markers",
         "name": "classical",
         "showlegend": true,
         "type": "scatter",
         "x": [
          -17.2022049062,
          -22.9053470106,
          -19.0963756906,
          -14.6105724299,
          -12.6067274247,
          -26.5117632399,
          5.338722408030001,
          -25.137375903600002,
          -14.7052690972,
          -8.49236971609
         ],
         "xaxis": "x",
         "y": [
          1.9013434343400002,
          0.9275486518170001,
          1.02808839779,
          5.96678037383,
          -0.264418896321,
          -1.7659501557599997,
          -3.1155774804900003,
          -0.45980602409599997,
          5.29289930556,
          2.18892744479
         ],
         "yaxis": "y"
        },
        {
         "hoverlabel": {
          "namelength": 0
         },
         "hovertemplate": "genre=hip-hop<br>avg_timbre9=%{x}<br>avg_timbre10=%{y}",
         "legendgroup": "hip-hop",
         "marker": {
          "color": "#19d3f3",
          "symbol": "circle"
         },
         "mode": "markers",
         "name": "hip-hop",
         "showlegend": true,
         "type": "scatter",
         "x": [
          12.8435689852,
          9.42725860024,
          -0.8006598837209999,
          6.525811912230001,
          17.9424913679,
          -3.8761545936400004,
          7.3836932826399995,
          0.36527174887900005,
          -18.4527853403,
          2.97447358834
         ],
         "xaxis": "x",
         "y": [
          8.333668187,
          12.0042704626,
          16.9272325581,
          1.5356154649899998,
          7.0642350597600005,
          6.47869964664,
          13.9475982256,
          6.607135426009999,
          5.5497078534,
          5.21921493625
         ],
         "yaxis": "y"
        },
        {
         "hoverlabel": {
          "namelength": 0
         },
         "hovertemplate": "genre=folk<br>avg_timbre9=%{x}<br>avg_timbre10=%{y}",
         "legendgroup": "folk",
         "marker": {
          "color": "#FF6692",
          "symbol": "circle"
         },
         "mode": "markers",
         "name": "folk",
         "showlegend": true,
         "type": "scatter",
         "x": [
          1.79266471449,
          12.6468362702,
          8.15505803996,
          -3.52076432292,
          7.7910940499,
          6.1137933247800005,
          -10.2017660377,
          11.4745637394,
          -7.55456732224,
          9.129150594450001
         ],
         "xaxis": "x",
         "y": [
          -4.0149399707199995,
          -6.92178414097,
          -7.243178877260001,
          -10.8345703125,
          -5.4005556621899995,
          -6.2663299101400005,
          -12.2580584906,
          -2.68215014164,
          -6.6397307110399995,
          -3.6992879788599997
         ],
         "yaxis": "y"
        },
        {
         "hoverlabel": {
          "namelength": 0
         },
         "hovertemplate": "genre=dance and electronica<br>avg_timbre9=%{x}<br>avg_timbre10=%{y}",
         "legendgroup": "dance and electronica",
         "marker": {
          "color": "#B6E880",
          "symbol": "circle"
         },
         "mode": "markers",
         "name": "dance and electronica",
         "showlegend": true,
         "type": "scatter",
         "x": [
          14.405266304300001,
          3.01484671533,
          2.9881989100800004,
          7.56445891473,
          9.925805316089999,
          -5.26982717873,
          -6.033141732280001,
          55.831133620699994,
          12.4512261128,
          2.22878911565
         ],
         "xaxis": "x",
         "y": [
          7.45747826087,
          4.25224525547,
          23.853300817399997,
          13.8474581395,
          17.4443297414,
          2.40121344165,
          -3.0558976378,
          18.3344181034,
          16.6294997033,
          7.5836606198
         ],
         "yaxis": "y"
        },
        {
         "hoverlabel": {
          "namelength": 0
         },
         "hovertemplate": "genre=jazz and blues<br>avg_timbre9=%{x}<br>avg_timbre10=%{y}",
         "legendgroup": "jazz and blues",
         "marker": {
          "color": "#FF97FF",
          "symbol": "circle"
         },
         "mode": "markers",
         "name": "jazz and blues",
         "showlegend": true,
         "type": "scatter",
         "x": [
          4.3742477395999995,
          2.00329135053,
          7.620517647060001,
          5.63151408451,
          4.11458713693,
          1.35094802495,
          9.661460854089999,
          9.16944990046,
          4.82201717557,
          13.633877513699998
         ],
         "xaxis": "x",
         "y": [
          -1.78837432188,
          -2.03026555387,
          1.4589264705899998,
          -1.4787746478900001,
          9.17241701245,
          -6.20615384615,
          -0.7529804270460001,
          3.99939416058,
          1.7926011450400001,
          3.35259414991
         ],
         "yaxis": "y"
        },
        {
         "hoverlabel": {
          "namelength": 0
         },
         "hovertemplate": "genre=punk<br>avg_timbre9=%{x}<br>avg_timbre10=%{y}",
         "legendgroup": "punk",
         "marker": {
          "color": "#FECB52",
          "symbol": "circle"
         },
         "mode": "markers",
         "name": "punk",
         "showlegend": true,
         "type": "scatter",
         "x": [
          16.2373705293,
          10.01331875,
          23.9333566434,
          11.5717514019,
          23.299138195799998,
          17.3510453271,
          22.335020202,
          6.37693265007,
          16.6651615245,
          22.644783667600002
         ],
         "xaxis": "x",
         "y": [
          6.06782260372,
          12.8766875,
          10.9166727273,
          9.514671028039999,
          9.79505758157,
          12.425318224300002,
          8.557673881669999,
          10.0294758419,
          11.026442831199999,
          12.867422636099999
         ],
         "yaxis": "y"
        }
       ],
       "layout": {
        "legend": {
         "title": {
          "text": "genre"
         },
         "tracegroupgap": 0
        },
        "margin": {
         "t": 60
        },
        "template": {
         "data": {
          "bar": [
           {
            "error_x": {
             "color": "#2a3f5f"
            },
            "error_y": {
             "color": "#2a3f5f"
            },
            "marker": {
             "line": {
              "color": "#E5ECF6",
              "width": 0.5
             }
            },
            "type": "bar"
           }
          ],
          "barpolar": [
           {
            "marker": {
             "line": {
              "color": "#E5ECF6",
              "width": 0.5
             }
            },
            "type": "barpolar"
           }
          ],
          "carpet": [
           {
            "aaxis": {
             "endlinecolor": "#2a3f5f",
             "gridcolor": "white",
             "linecolor": "white",
             "minorgridcolor": "white",
             "startlinecolor": "#2a3f5f"
            },
            "baxis": {
             "endlinecolor": "#2a3f5f",
             "gridcolor": "white",
             "linecolor": "white",
             "minorgridcolor": "white",
             "startlinecolor": "#2a3f5f"
            },
            "type": "carpet"
           }
          ],
          "choropleth": [
           {
            "colorbar": {
             "outlinewidth": 0,
             "ticks": ""
            },
            "type": "choropleth"
           }
          ],
          "contour": [
           {
            "colorbar": {
             "outlinewidth": 0,
             "ticks": ""
            },
            "colorscale": [
             [
              0,
              "#0d0887"
             ],
             [
              0.1111111111111111,
              "#46039f"
             ],
             [
              0.2222222222222222,
              "#7201a8"
             ],
             [
              0.3333333333333333,
              "#9c179e"
             ],
             [
              0.4444444444444444,
              "#bd3786"
             ],
             [
              0.5555555555555556,
              "#d8576b"
             ],
             [
              0.6666666666666666,
              "#ed7953"
             ],
             [
              0.7777777777777778,
              "#fb9f3a"
             ],
             [
              0.8888888888888888,
              "#fdca26"
             ],
             [
              1,
              "#f0f921"
             ]
            ],
            "type": "contour"
           }
          ],
          "contourcarpet": [
           {
            "colorbar": {
             "outlinewidth": 0,
             "ticks": ""
            },
            "type": "contourcarpet"
           }
          ],
          "heatmap": [
           {
            "colorbar": {
             "outlinewidth": 0,
             "ticks": ""
            },
            "colorscale": [
             [
              0,
              "#0d0887"
             ],
             [
              0.1111111111111111,
              "#46039f"
             ],
             [
              0.2222222222222222,
              "#7201a8"
             ],
             [
              0.3333333333333333,
              "#9c179e"
             ],
             [
              0.4444444444444444,
              "#bd3786"
             ],
             [
              0.5555555555555556,
              "#d8576b"
             ],
             [
              0.6666666666666666,
              "#ed7953"
             ],
             [
              0.7777777777777778,
              "#fb9f3a"
             ],
             [
              0.8888888888888888,
              "#fdca26"
             ],
             [
              1,
              "#f0f921"
             ]
            ],
            "type": "heatmap"
           }
          ],
          "heatmapgl": [
           {
            "colorbar": {
             "outlinewidth": 0,
             "ticks": ""
            },
            "colorscale": [
             [
              0,
              "#0d0887"
             ],
             [
              0.1111111111111111,
              "#46039f"
             ],
             [
              0.2222222222222222,
              "#7201a8"
             ],
             [
              0.3333333333333333,
              "#9c179e"
             ],
             [
              0.4444444444444444,
              "#bd3786"
             ],
             [
              0.5555555555555556,
              "#d8576b"
             ],
             [
              0.6666666666666666,
              "#ed7953"
             ],
             [
              0.7777777777777778,
              "#fb9f3a"
             ],
             [
              0.8888888888888888,
              "#fdca26"
             ],
             [
              1,
              "#f0f921"
             ]
            ],
            "type": "heatmapgl"
           }
          ],
          "histogram": [
           {
            "marker": {
             "colorbar": {
              "outlinewidth": 0,
              "ticks": ""
             }
            },
            "type": "histogram"
           }
          ],
          "histogram2d": [
           {
            "colorbar": {
             "outlinewidth": 0,
             "ticks": ""
            },
            "colorscale": [
             [
              0,
              "#0d0887"
             ],
             [
              0.1111111111111111,
              "#46039f"
             ],
             [
              0.2222222222222222,
              "#7201a8"
             ],
             [
              0.3333333333333333,
              "#9c179e"
             ],
             [
              0.4444444444444444,
              "#bd3786"
             ],
             [
              0.5555555555555556,
              "#d8576b"
             ],
             [
              0.6666666666666666,
              "#ed7953"
             ],
             [
              0.7777777777777778,
              "#fb9f3a"
             ],
             [
              0.8888888888888888,
              "#fdca26"
             ],
             [
              1,
              "#f0f921"
             ]
            ],
            "type": "histogram2d"
           }
          ],
          "histogram2dcontour": [
           {
            "colorbar": {
             "outlinewidth": 0,
             "ticks": ""
            },
            "colorscale": [
             [
              0,
              "#0d0887"
             ],
             [
              0.1111111111111111,
              "#46039f"
             ],
             [
              0.2222222222222222,
              "#7201a8"
             ],
             [
              0.3333333333333333,
              "#9c179e"
             ],
             [
              0.4444444444444444,
              "#bd3786"
             ],
             [
              0.5555555555555556,
              "#d8576b"
             ],
             [
              0.6666666666666666,
              "#ed7953"
             ],
             [
              0.7777777777777778,
              "#fb9f3a"
             ],
             [
              0.8888888888888888,
              "#fdca26"
             ],
             [
              1,
              "#f0f921"
             ]
            ],
            "type": "histogram2dcontour"
           }
          ],
          "mesh3d": [
           {
            "colorbar": {
             "outlinewidth": 0,
             "ticks": ""
            },
            "type": "mesh3d"
           }
          ],
          "parcoords": [
           {
            "line": {
             "colorbar": {
              "outlinewidth": 0,
              "ticks": ""
             }
            },
            "type": "parcoords"
           }
          ],
          "pie": [
           {
            "automargin": true,
            "type": "pie"
           }
          ],
          "scatter": [
           {
            "marker": {
             "colorbar": {
              "outlinewidth": 0,
              "ticks": ""
             }
            },
            "type": "scatter"
           }
          ],
          "scatter3d": [
           {
            "line": {
             "colorbar": {
              "outlinewidth": 0,
              "ticks": ""
             }
            },
            "marker": {
             "colorbar": {
              "outlinewidth": 0,
              "ticks": ""
             }
            },
            "type": "scatter3d"
           }
          ],
          "scattercarpet": [
           {
            "marker": {
             "colorbar": {
              "outlinewidth": 0,
              "ticks": ""
             }
            },
            "type": "scattercarpet"
           }
          ],
          "scattergeo": [
           {
            "marker": {
             "colorbar": {
              "outlinewidth": 0,
              "ticks": ""
             }
            },
            "type": "scattergeo"
           }
          ],
          "scattergl": [
           {
            "marker": {
             "colorbar": {
              "outlinewidth": 0,
              "ticks": ""
             }
            },
            "type": "scattergl"
           }
          ],
          "scattermapbox": [
           {
            "marker": {
             "colorbar": {
              "outlinewidth": 0,
              "ticks": ""
             }
            },
            "type": "scattermapbox"
           }
          ],
          "scatterpolar": [
           {
            "marker": {
             "colorbar": {
              "outlinewidth": 0,
              "ticks": ""
             }
            },
            "type": "scatterpolar"
           }
          ],
          "scatterpolargl": [
           {
            "marker": {
             "colorbar": {
              "outlinewidth": 0,
              "ticks": ""
             }
            },
            "type": "scatterpolargl"
           }
          ],
          "scatterternary": [
           {
            "marker": {
             "colorbar": {
              "outlinewidth": 0,
              "ticks": ""
             }
            },
            "type": "scatterternary"
           }
          ],
          "surface": [
           {
            "colorbar": {
             "outlinewidth": 0,
             "ticks": ""
            },
            "colorscale": [
             [
              0,
              "#0d0887"
             ],
             [
              0.1111111111111111,
              "#46039f"
             ],
             [
              0.2222222222222222,
              "#7201a8"
             ],
             [
              0.3333333333333333,
              "#9c179e"
             ],
             [
              0.4444444444444444,
              "#bd3786"
             ],
             [
              0.5555555555555556,
              "#d8576b"
             ],
             [
              0.6666666666666666,
              "#ed7953"
             ],
             [
              0.7777777777777778,
              "#fb9f3a"
             ],
             [
              0.8888888888888888,
              "#fdca26"
             ],
             [
              1,
              "#f0f921"
             ]
            ],
            "type": "surface"
           }
          ],
          "table": [
           {
            "cells": {
             "fill": {
              "color": "#EBF0F8"
             },
             "line": {
              "color": "white"
             }
            },
            "header": {
             "fill": {
              "color": "#C8D4E3"
             },
             "line": {
              "color": "white"
             }
            },
            "type": "table"
           }
          ]
         },
         "layout": {
          "annotationdefaults": {
           "arrowcolor": "#2a3f5f",
           "arrowhead": 0,
           "arrowwidth": 1
          },
          "coloraxis": {
           "colorbar": {
            "outlinewidth": 0,
            "ticks": ""
           }
          },
          "colorscale": {
           "diverging": [
            [
             0,
             "#8e0152"
            ],
            [
             0.1,
             "#c51b7d"
            ],
            [
             0.2,
             "#de77ae"
            ],
            [
             0.3,
             "#f1b6da"
            ],
            [
             0.4,
             "#fde0ef"
            ],
            [
             0.5,
             "#f7f7f7"
            ],
            [
             0.6,
             "#e6f5d0"
            ],
            [
             0.7,
             "#b8e186"
            ],
            [
             0.8,
             "#7fbc41"
            ],
            [
             0.9,
             "#4d9221"
            ],
            [
             1,
             "#276419"
            ]
           ],
           "sequential": [
            [
             0,
             "#0d0887"
            ],
            [
             0.1111111111111111,
             "#46039f"
            ],
            [
             0.2222222222222222,
             "#7201a8"
            ],
            [
             0.3333333333333333,
             "#9c179e"
            ],
            [
             0.4444444444444444,
             "#bd3786"
            ],
            [
             0.5555555555555556,
             "#d8576b"
            ],
            [
             0.6666666666666666,
             "#ed7953"
            ],
            [
             0.7777777777777778,
             "#fb9f3a"
            ],
            [
             0.8888888888888888,
             "#fdca26"
            ],
            [
             1,
             "#f0f921"
            ]
           ],
           "sequentialminus": [
            [
             0,
             "#0d0887"
            ],
            [
             0.1111111111111111,
             "#46039f"
            ],
            [
             0.2222222222222222,
             "#7201a8"
            ],
            [
             0.3333333333333333,
             "#9c179e"
            ],
            [
             0.4444444444444444,
             "#bd3786"
            ],
            [
             0.5555555555555556,
             "#d8576b"
            ],
            [
             0.6666666666666666,
             "#ed7953"
            ],
            [
             0.7777777777777778,
             "#fb9f3a"
            ],
            [
             0.8888888888888888,
             "#fdca26"
            ],
            [
             1,
             "#f0f921"
            ]
           ]
          },
          "colorway": [
           "#636efa",
           "#EF553B",
           "#00cc96",
           "#ab63fa",
           "#FFA15A",
           "#19d3f3",
           "#FF6692",
           "#B6E880",
           "#FF97FF",
           "#FECB52"
          ],
          "font": {
           "color": "#2a3f5f"
          },
          "geo": {
           "bgcolor": "white",
           "lakecolor": "white",
           "landcolor": "#E5ECF6",
           "showlakes": true,
           "showland": true,
           "subunitcolor": "white"
          },
          "hoverlabel": {
           "align": "left"
          },
          "hovermode": "closest",
          "mapbox": {
           "style": "light"
          },
          "paper_bgcolor": "white",
          "plot_bgcolor": "#E5ECF6",
          "polar": {
           "angularaxis": {
            "gridcolor": "white",
            "linecolor": "white",
            "ticks": ""
           },
           "bgcolor": "#E5ECF6",
           "radialaxis": {
            "gridcolor": "white",
            "linecolor": "white",
            "ticks": ""
           }
          },
          "scene": {
           "xaxis": {
            "backgroundcolor": "#E5ECF6",
            "gridcolor": "white",
            "gridwidth": 2,
            "linecolor": "white",
            "showbackground": true,
            "ticks": "",
            "zerolinecolor": "white"
           },
           "yaxis": {
            "backgroundcolor": "#E5ECF6",
            "gridcolor": "white",
            "gridwidth": 2,
            "linecolor": "white",
            "showbackground": true,
            "ticks": "",
            "zerolinecolor": "white"
           },
           "zaxis": {
            "backgroundcolor": "#E5ECF6",
            "gridcolor": "white",
            "gridwidth": 2,
            "linecolor": "white",
            "showbackground": true,
            "ticks": "",
            "zerolinecolor": "white"
           }
          },
          "shapedefaults": {
           "line": {
            "color": "#2a3f5f"
           }
          },
          "ternary": {
           "aaxis": {
            "gridcolor": "white",
            "linecolor": "white",
            "ticks": ""
           },
           "baxis": {
            "gridcolor": "white",
            "linecolor": "white",
            "ticks": ""
           },
           "bgcolor": "#E5ECF6",
           "caxis": {
            "gridcolor": "white",
            "linecolor": "white",
            "ticks": ""
           }
          },
          "title": {
           "x": 0.05
          },
          "xaxis": {
           "automargin": true,
           "gridcolor": "white",
           "linecolor": "white",
           "ticks": "",
           "title": {
            "standoff": 15
           },
           "zerolinecolor": "white",
           "zerolinewidth": 2
          },
          "yaxis": {
           "automargin": true,
           "gridcolor": "white",
           "linecolor": "white",
           "ticks": "",
           "title": {
            "standoff": 15
           },
           "zerolinecolor": "white",
           "zerolinewidth": 2
          }
         }
        },
        "xaxis": {
         "anchor": "y",
         "domain": [
          0,
          1
         ],
         "title": {
          "text": "avg_timbre9"
         }
        },
        "yaxis": {
         "anchor": "x",
         "domain": [
          0,
          1
         ],
         "title": {
          "text": "avg_timbre10"
         }
        }
       }
      },
      "text/html": [
       "<div>\n",
       "        \n",
       "        \n",
       "            <div id=\"f7abfcc8-af64-4823-abf5-c23d91b99315\" class=\"plotly-graph-div\" style=\"height:525px; width:100%;\"></div>\n",
       "            <script type=\"text/javascript\">\n",
       "                require([\"plotly\"], function(Plotly) {\n",
       "                    window.PLOTLYENV=window.PLOTLYENV || {};\n",
       "                    \n",
       "                if (document.getElementById(\"f7abfcc8-af64-4823-abf5-c23d91b99315\")) {\n",
       "                    Plotly.newPlot(\n",
       "                        'f7abfcc8-af64-4823-abf5-c23d91b99315',\n",
       "                        [{\"hoverlabel\": {\"namelength\": 0}, \"hovertemplate\": \"genre=soul and reggae<br>avg_timbre9=%{x}<br>avg_timbre10=%{y}\", \"legendgroup\": \"soul and reggae\", \"marker\": {\"color\": \"#636efa\", \"symbol\": \"circle\"}, \"mode\": \"markers\", \"name\": \"soul and reggae\", \"showlegend\": true, \"type\": \"scatter\", \"x\": [7.7656014967299996, 11.6802668776, 10.0276669267, 0.654920560748, -0.176415172414, 5.915594330399999, 6.5767028451, 3.40534817013, 0.137598130841, 8.209090820310001], \"xaxis\": \"x\", \"y\": [6.401828811970001, 14.0751350211, -5.905595943840001, 13.9775056075, 7.41789241379, 0.8304144672529999, -0.9202107481559999, 4.86873095945, 4.12167009346, 1.6851503906299998], \"yaxis\": \"y\"}, {\"hoverlabel\": {\"namelength\": 0}, \"hovertemplate\": \"genre=classic pop and rock<br>avg_timbre9=%{x}<br>avg_timbre10=%{y}\", \"legendgroup\": \"classic pop and rock\", \"marker\": {\"color\": \"#EF553B\", \"symbol\": \"circle\"}, \"mode\": \"markers\", \"name\": \"classic pop and rock\", \"showlegend\": true, \"type\": \"scatter\", \"x\": [9.31376526316, 15.414010929000002, 6.697040697669999, 13.39365, 1.9597453083099996, 22.6917134752, -13.5654147521, 6.79743100511, 1.09287630402, 3.52617653759], \"xaxis\": \"x\", \"y\": [3.20116947368, 4.5561366120199995, 4.26273837209, 3.0706785714300002, 3.0683176943700006, -2.8727063829799997, -1.1413434099200002, 2.96244293015, 1.47949031297, 1.53544874715], \"yaxis\": \"y\"}, {\"hoverlabel\": {\"namelength\": 0}, \"hovertemplate\": \"genre=metal<br>avg_timbre9=%{x}<br>avg_timbre10=%{y}\", \"legendgroup\": \"metal\", \"marker\": {\"color\": \"#00cc96\", \"symbol\": \"circle\"}, \"mode\": \"markers\", \"name\": \"metal\", \"showlegend\": true, \"type\": \"scatter\", \"x\": [1.77021840243, 4.45621265823, -3.4335519053900003, 4.19127091255, 6.7928147041199995, -0.20192190669399998, -0.00649140546006, -0.23140846366099999, 4.45659298246, -0.388439271255], \"xaxis\": \"x\", \"y\": [9.085553083919999, 11.1174481013, -3.18236793693, 7.999086501900001, 0.282344291692, 9.57205070994, 9.471472194139999, 13.2091867525, 8.2524877193, 9.405401821860002], \"yaxis\": \"y\"}, {\"hoverlabel\": {\"namelength\": 0}, \"hovertemplate\": \"genre=pop<br>avg_timbre9=%{x}<br>avg_timbre10=%{y}\", \"legendgroup\": \"pop\", \"marker\": {\"color\": \"#ab63fa\", \"symbol\": \"circle\"}, \"mode\": \"markers\", \"name\": \"pop\", \"showlegend\": true, \"type\": \"scatter\", \"x\": [-4.71678090767, 11.1671707317, -2.2525108932499998, 10.884280245, 9.2730565046, 6.48935702746, 11.9741804949, 3.4123699906800002, 7.690104669889999, 8.59515502555], \"xaxis\": \"x\", \"y\": [1.9308059467900003, -0.336124518614, 4.337226579519999, 5.111949464009999, 0.17056504599199998, 0.693169628433, 2.29272489083, 1.15563653308, 4.64091626409, -2.3952521294699998], \"yaxis\": \"y\"}, {\"hoverlabel\": {\"namelength\": 0}, \"hovertemplate\": \"genre=classical<br>avg_timbre9=%{x}<br>avg_timbre10=%{y}\", \"legendgroup\": \"classical\", \"marker\": {\"color\": \"#FFA15A\", \"symbol\": \"circle\"}, \"mode\": \"markers\", \"name\": \"classical\", \"showlegend\": true, \"type\": \"scatter\", \"x\": [-17.2022049062, -22.9053470106, -19.0963756906, -14.6105724299, -12.6067274247, -26.5117632399, 5.338722408030001, -25.137375903600002, -14.7052690972, -8.49236971609], \"xaxis\": \"x\", \"y\": [1.9013434343400002, 0.9275486518170001, 1.02808839779, 5.96678037383, -0.264418896321, -1.7659501557599997, -3.1155774804900003, -0.45980602409599997, 5.29289930556, 2.18892744479], \"yaxis\": \"y\"}, {\"hoverlabel\": {\"namelength\": 0}, \"hovertemplate\": \"genre=hip-hop<br>avg_timbre9=%{x}<br>avg_timbre10=%{y}\", \"legendgroup\": \"hip-hop\", \"marker\": {\"color\": \"#19d3f3\", \"symbol\": \"circle\"}, \"mode\": \"markers\", \"name\": \"hip-hop\", \"showlegend\": true, \"type\": \"scatter\", \"x\": [12.8435689852, 9.42725860024, -0.8006598837209999, 6.525811912230001, 17.9424913679, -3.8761545936400004, 7.3836932826399995, 0.36527174887900005, -18.4527853403, 2.97447358834], \"xaxis\": \"x\", \"y\": [8.333668187, 12.0042704626, 16.9272325581, 1.5356154649899998, 7.0642350597600005, 6.47869964664, 13.9475982256, 6.607135426009999, 5.5497078534, 5.21921493625], \"yaxis\": \"y\"}, {\"hoverlabel\": {\"namelength\": 0}, \"hovertemplate\": \"genre=folk<br>avg_timbre9=%{x}<br>avg_timbre10=%{y}\", \"legendgroup\": \"folk\", \"marker\": {\"color\": \"#FF6692\", \"symbol\": \"circle\"}, \"mode\": \"markers\", \"name\": \"folk\", \"showlegend\": true, \"type\": \"scatter\", \"x\": [1.79266471449, 12.6468362702, 8.15505803996, -3.52076432292, 7.7910940499, 6.1137933247800005, -10.2017660377, 11.4745637394, -7.55456732224, 9.129150594450001], \"xaxis\": \"x\", \"y\": [-4.0149399707199995, -6.92178414097, -7.243178877260001, -10.8345703125, -5.4005556621899995, -6.2663299101400005, -12.2580584906, -2.68215014164, -6.6397307110399995, -3.6992879788599997], \"yaxis\": \"y\"}, {\"hoverlabel\": {\"namelength\": 0}, \"hovertemplate\": \"genre=dance and electronica<br>avg_timbre9=%{x}<br>avg_timbre10=%{y}\", \"legendgroup\": \"dance and electronica\", \"marker\": {\"color\": \"#B6E880\", \"symbol\": \"circle\"}, \"mode\": \"markers\", \"name\": \"dance and electronica\", \"showlegend\": true, \"type\": \"scatter\", \"x\": [14.405266304300001, 3.01484671533, 2.9881989100800004, 7.56445891473, 9.925805316089999, -5.26982717873, -6.033141732280001, 55.831133620699994, 12.4512261128, 2.22878911565], \"xaxis\": \"x\", \"y\": [7.45747826087, 4.25224525547, 23.853300817399997, 13.8474581395, 17.4443297414, 2.40121344165, -3.0558976378, 18.3344181034, 16.6294997033, 7.5836606198], \"yaxis\": \"y\"}, {\"hoverlabel\": {\"namelength\": 0}, \"hovertemplate\": \"genre=jazz and blues<br>avg_timbre9=%{x}<br>avg_timbre10=%{y}\", \"legendgroup\": \"jazz and blues\", \"marker\": {\"color\": \"#FF97FF\", \"symbol\": \"circle\"}, \"mode\": \"markers\", \"name\": \"jazz and blues\", \"showlegend\": true, \"type\": \"scatter\", \"x\": [4.3742477395999995, 2.00329135053, 7.620517647060001, 5.63151408451, 4.11458713693, 1.35094802495, 9.661460854089999, 9.16944990046, 4.82201717557, 13.633877513699998], \"xaxis\": \"x\", \"y\": [-1.78837432188, -2.03026555387, 1.4589264705899998, -1.4787746478900001, 9.17241701245, -6.20615384615, -0.7529804270460001, 3.99939416058, 1.7926011450400001, 3.35259414991], \"yaxis\": \"y\"}, {\"hoverlabel\": {\"namelength\": 0}, \"hovertemplate\": \"genre=punk<br>avg_timbre9=%{x}<br>avg_timbre10=%{y}\", \"legendgroup\": \"punk\", \"marker\": {\"color\": \"#FECB52\", \"symbol\": \"circle\"}, \"mode\": \"markers\", \"name\": \"punk\", \"showlegend\": true, \"type\": \"scatter\", \"x\": [16.2373705293, 10.01331875, 23.9333566434, 11.5717514019, 23.299138195799998, 17.3510453271, 22.335020202, 6.37693265007, 16.6651615245, 22.644783667600002], \"xaxis\": \"x\", \"y\": [6.06782260372, 12.8766875, 10.9166727273, 9.514671028039999, 9.79505758157, 12.425318224300002, 8.557673881669999, 10.0294758419, 11.026442831199999, 12.867422636099999], \"yaxis\": \"y\"}],\n",
       "                        {\"legend\": {\"title\": {\"text\": \"genre\"}, \"tracegroupgap\": 0}, \"margin\": {\"t\": 60}, \"template\": {\"data\": {\"bar\": [{\"error_x\": {\"color\": \"#2a3f5f\"}, \"error_y\": {\"color\": \"#2a3f5f\"}, \"marker\": {\"line\": {\"color\": \"#E5ECF6\", \"width\": 0.5}}, \"type\": \"bar\"}], \"barpolar\": [{\"marker\": {\"line\": {\"color\": \"#E5ECF6\", \"width\": 0.5}}, \"type\": \"barpolar\"}], \"carpet\": [{\"aaxis\": {\"endlinecolor\": \"#2a3f5f\", \"gridcolor\": \"white\", \"linecolor\": \"white\", \"minorgridcolor\": \"white\", \"startlinecolor\": \"#2a3f5f\"}, \"baxis\": {\"endlinecolor\": \"#2a3f5f\", \"gridcolor\": \"white\", \"linecolor\": \"white\", \"minorgridcolor\": \"white\", \"startlinecolor\": \"#2a3f5f\"}, \"type\": \"carpet\"}], \"choropleth\": [{\"colorbar\": {\"outlinewidth\": 0, \"ticks\": \"\"}, \"type\": \"choropleth\"}], \"contour\": [{\"colorbar\": {\"outlinewidth\": 0, \"ticks\": \"\"}, \"colorscale\": [[0.0, \"#0d0887\"], [0.1111111111111111, \"#46039f\"], [0.2222222222222222, \"#7201a8\"], [0.3333333333333333, \"#9c179e\"], [0.4444444444444444, \"#bd3786\"], [0.5555555555555556, \"#d8576b\"], [0.6666666666666666, \"#ed7953\"], [0.7777777777777778, \"#fb9f3a\"], [0.8888888888888888, \"#fdca26\"], [1.0, \"#f0f921\"]], \"type\": \"contour\"}], \"contourcarpet\": [{\"colorbar\": {\"outlinewidth\": 0, \"ticks\": \"\"}, \"type\": \"contourcarpet\"}], \"heatmap\": [{\"colorbar\": {\"outlinewidth\": 0, \"ticks\": \"\"}, \"colorscale\": [[0.0, \"#0d0887\"], [0.1111111111111111, \"#46039f\"], [0.2222222222222222, \"#7201a8\"], [0.3333333333333333, \"#9c179e\"], [0.4444444444444444, \"#bd3786\"], [0.5555555555555556, \"#d8576b\"], [0.6666666666666666, \"#ed7953\"], [0.7777777777777778, \"#fb9f3a\"], [0.8888888888888888, \"#fdca26\"], [1.0, \"#f0f921\"]], \"type\": \"heatmap\"}], \"heatmapgl\": [{\"colorbar\": {\"outlinewidth\": 0, \"ticks\": \"\"}, \"colorscale\": [[0.0, \"#0d0887\"], [0.1111111111111111, \"#46039f\"], [0.2222222222222222, \"#7201a8\"], [0.3333333333333333, \"#9c179e\"], [0.4444444444444444, \"#bd3786\"], [0.5555555555555556, \"#d8576b\"], [0.6666666666666666, \"#ed7953\"], [0.7777777777777778, \"#fb9f3a\"], [0.8888888888888888, \"#fdca26\"], [1.0, \"#f0f921\"]], \"type\": \"heatmapgl\"}], \"histogram\": [{\"marker\": {\"colorbar\": {\"outlinewidth\": 0, \"ticks\": \"\"}}, \"type\": \"histogram\"}], \"histogram2d\": [{\"colorbar\": {\"outlinewidth\": 0, \"ticks\": \"\"}, \"colorscale\": [[0.0, \"#0d0887\"], [0.1111111111111111, \"#46039f\"], [0.2222222222222222, \"#7201a8\"], [0.3333333333333333, \"#9c179e\"], [0.4444444444444444, \"#bd3786\"], [0.5555555555555556, \"#d8576b\"], [0.6666666666666666, \"#ed7953\"], [0.7777777777777778, \"#fb9f3a\"], [0.8888888888888888, \"#fdca26\"], [1.0, \"#f0f921\"]], \"type\": \"histogram2d\"}], \"histogram2dcontour\": [{\"colorbar\": {\"outlinewidth\": 0, \"ticks\": \"\"}, \"colorscale\": [[0.0, \"#0d0887\"], [0.1111111111111111, \"#46039f\"], [0.2222222222222222, \"#7201a8\"], [0.3333333333333333, \"#9c179e\"], [0.4444444444444444, \"#bd3786\"], [0.5555555555555556, \"#d8576b\"], [0.6666666666666666, \"#ed7953\"], [0.7777777777777778, \"#fb9f3a\"], [0.8888888888888888, \"#fdca26\"], [1.0, \"#f0f921\"]], \"type\": \"histogram2dcontour\"}], \"mesh3d\": [{\"colorbar\": {\"outlinewidth\": 0, \"ticks\": \"\"}, \"type\": \"mesh3d\"}], \"parcoords\": [{\"line\": {\"colorbar\": {\"outlinewidth\": 0, \"ticks\": \"\"}}, \"type\": \"parcoords\"}], \"pie\": [{\"automargin\": true, \"type\": \"pie\"}], \"scatter\": [{\"marker\": {\"colorbar\": {\"outlinewidth\": 0, \"ticks\": \"\"}}, \"type\": \"scatter\"}], \"scatter3d\": [{\"line\": {\"colorbar\": {\"outlinewidth\": 0, \"ticks\": \"\"}}, \"marker\": {\"colorbar\": {\"outlinewidth\": 0, \"ticks\": \"\"}}, \"type\": \"scatter3d\"}], \"scattercarpet\": [{\"marker\": {\"colorbar\": {\"outlinewidth\": 0, \"ticks\": \"\"}}, \"type\": \"scattercarpet\"}], \"scattergeo\": [{\"marker\": {\"colorbar\": {\"outlinewidth\": 0, \"ticks\": \"\"}}, \"type\": \"scattergeo\"}], \"scattergl\": [{\"marker\": {\"colorbar\": {\"outlinewidth\": 0, \"ticks\": \"\"}}, \"type\": \"scattergl\"}], \"scattermapbox\": [{\"marker\": {\"colorbar\": {\"outlinewidth\": 0, \"ticks\": \"\"}}, \"type\": \"scattermapbox\"}], \"scatterpolar\": [{\"marker\": {\"colorbar\": {\"outlinewidth\": 0, \"ticks\": \"\"}}, \"type\": \"scatterpolar\"}], \"scatterpolargl\": [{\"marker\": {\"colorbar\": {\"outlinewidth\": 0, \"ticks\": \"\"}}, \"type\": \"scatterpolargl\"}], \"scatterternary\": [{\"marker\": {\"colorbar\": {\"outlinewidth\": 0, \"ticks\": \"\"}}, \"type\": \"scatterternary\"}], \"surface\": [{\"colorbar\": {\"outlinewidth\": 0, \"ticks\": \"\"}, \"colorscale\": [[0.0, \"#0d0887\"], [0.1111111111111111, \"#46039f\"], [0.2222222222222222, \"#7201a8\"], [0.3333333333333333, \"#9c179e\"], [0.4444444444444444, \"#bd3786\"], [0.5555555555555556, \"#d8576b\"], [0.6666666666666666, \"#ed7953\"], [0.7777777777777778, \"#fb9f3a\"], [0.8888888888888888, \"#fdca26\"], [1.0, \"#f0f921\"]], \"type\": \"surface\"}], \"table\": [{\"cells\": {\"fill\": {\"color\": \"#EBF0F8\"}, \"line\": {\"color\": \"white\"}}, \"header\": {\"fill\": {\"color\": \"#C8D4E3\"}, \"line\": {\"color\": \"white\"}}, \"type\": \"table\"}]}, \"layout\": {\"annotationdefaults\": {\"arrowcolor\": \"#2a3f5f\", \"arrowhead\": 0, \"arrowwidth\": 1}, \"coloraxis\": {\"colorbar\": {\"outlinewidth\": 0, \"ticks\": \"\"}}, \"colorscale\": {\"diverging\": [[0, \"#8e0152\"], [0.1, \"#c51b7d\"], [0.2, \"#de77ae\"], [0.3, \"#f1b6da\"], [0.4, \"#fde0ef\"], [0.5, \"#f7f7f7\"], [0.6, \"#e6f5d0\"], [0.7, \"#b8e186\"], [0.8, \"#7fbc41\"], [0.9, \"#4d9221\"], [1, \"#276419\"]], \"sequential\": [[0.0, \"#0d0887\"], [0.1111111111111111, \"#46039f\"], [0.2222222222222222, \"#7201a8\"], [0.3333333333333333, \"#9c179e\"], [0.4444444444444444, \"#bd3786\"], [0.5555555555555556, \"#d8576b\"], [0.6666666666666666, \"#ed7953\"], [0.7777777777777778, \"#fb9f3a\"], [0.8888888888888888, \"#fdca26\"], [1.0, \"#f0f921\"]], \"sequentialminus\": [[0.0, \"#0d0887\"], [0.1111111111111111, \"#46039f\"], [0.2222222222222222, \"#7201a8\"], [0.3333333333333333, \"#9c179e\"], [0.4444444444444444, \"#bd3786\"], [0.5555555555555556, \"#d8576b\"], [0.6666666666666666, \"#ed7953\"], [0.7777777777777778, \"#fb9f3a\"], [0.8888888888888888, \"#fdca26\"], [1.0, \"#f0f921\"]]}, \"colorway\": [\"#636efa\", \"#EF553B\", \"#00cc96\", \"#ab63fa\", \"#FFA15A\", \"#19d3f3\", \"#FF6692\", \"#B6E880\", \"#FF97FF\", \"#FECB52\"], \"font\": {\"color\": \"#2a3f5f\"}, \"geo\": {\"bgcolor\": \"white\", \"lakecolor\": \"white\", \"landcolor\": \"#E5ECF6\", \"showlakes\": true, \"showland\": true, \"subunitcolor\": \"white\"}, \"hoverlabel\": {\"align\": \"left\"}, \"hovermode\": \"closest\", \"mapbox\": {\"style\": \"light\"}, \"paper_bgcolor\": \"white\", \"plot_bgcolor\": \"#E5ECF6\", \"polar\": {\"angularaxis\": {\"gridcolor\": \"white\", \"linecolor\": \"white\", \"ticks\": \"\"}, \"bgcolor\": \"#E5ECF6\", \"radialaxis\": {\"gridcolor\": \"white\", \"linecolor\": \"white\", \"ticks\": \"\"}}, \"scene\": {\"xaxis\": {\"backgroundcolor\": \"#E5ECF6\", \"gridcolor\": \"white\", \"gridwidth\": 2, \"linecolor\": \"white\", \"showbackground\": true, \"ticks\": \"\", \"zerolinecolor\": \"white\"}, \"yaxis\": {\"backgroundcolor\": \"#E5ECF6\", \"gridcolor\": \"white\", \"gridwidth\": 2, \"linecolor\": \"white\", \"showbackground\": true, \"ticks\": \"\", \"zerolinecolor\": \"white\"}, \"zaxis\": {\"backgroundcolor\": \"#E5ECF6\", \"gridcolor\": \"white\", \"gridwidth\": 2, \"linecolor\": \"white\", \"showbackground\": true, \"ticks\": \"\", \"zerolinecolor\": \"white\"}}, \"shapedefaults\": {\"line\": {\"color\": \"#2a3f5f\"}}, \"ternary\": {\"aaxis\": {\"gridcolor\": \"white\", \"linecolor\": \"white\", \"ticks\": \"\"}, \"baxis\": {\"gridcolor\": \"white\", \"linecolor\": \"white\", \"ticks\": \"\"}, \"bgcolor\": \"#E5ECF6\", \"caxis\": {\"gridcolor\": \"white\", \"linecolor\": \"white\", \"ticks\": \"\"}}, \"title\": {\"x\": 0.05}, \"xaxis\": {\"automargin\": true, \"gridcolor\": \"white\", \"linecolor\": \"white\", \"ticks\": \"\", \"title\": {\"standoff\": 15}, \"zerolinecolor\": \"white\", \"zerolinewidth\": 2}, \"yaxis\": {\"automargin\": true, \"gridcolor\": \"white\", \"linecolor\": \"white\", \"ticks\": \"\", \"title\": {\"standoff\": 15}, \"zerolinecolor\": \"white\", \"zerolinewidth\": 2}}}, \"xaxis\": {\"anchor\": \"y\", \"domain\": [0.0, 1.0], \"title\": {\"text\": \"avg_timbre9\"}}, \"yaxis\": {\"anchor\": \"x\", \"domain\": [0.0, 1.0], \"title\": {\"text\": \"avg_timbre10\"}}},\n",
       "                        {\"responsive\": true}\n",
       "                    ).then(function(){\n",
       "                            \n",
       "var gd = document.getElementById('f7abfcc8-af64-4823-abf5-c23d91b99315');\n",
       "var x = new MutationObserver(function (mutations, observer) {{\n",
       "        var display = window.getComputedStyle(gd).display;\n",
       "        if (!display || display === 'none') {{\n",
       "            console.log([gd, 'removed!']);\n",
       "            Plotly.purge(gd);\n",
       "            observer.disconnect();\n",
       "        }}\n",
       "}});\n",
       "\n",
       "// Listen for the removal of the full notebook cells\n",
       "var notebookContainer = gd.closest('#notebook-container');\n",
       "if (notebookContainer) {{\n",
       "    x.observe(notebookContainer, {childList: true});\n",
       "}}\n",
       "\n",
       "// Listen for the clearing of the current output cell\n",
       "var outputEl = gd.closest('.output');\n",
       "if (outputEl) {{\n",
       "    x.observe(outputEl, {childList: true});\n",
       "}}\n",
       "\n",
       "                        })\n",
       "                };\n",
       "                });\n",
       "            </script>\n",
       "        </div>"
      ]
     },
     "metadata": {},
     "output_type": "display_data"
    }
   ],
   "source": [
    "import pandas as pd\n",
    "from sklearn.utils import shuffle\n",
    "import plotly.express as px\n",
    "\n",
    "pd.options.mode.chained_assignment = None  # default='warn'\n",
    "\n",
    "dataset = pd.read_csv('msd_genre_dataset0.csv', header=0)\n",
    "\n",
    "classicPopAndRock = dataset.iloc[0:23895]\n",
    "punk = dataset.iloc[23895:27095]\n",
    "folk = dataset.iloc[27095:40287]\n",
    "pop = dataset.iloc[40287:41904]\n",
    "danceAndElectronica = dataset.iloc[41904:46839]\n",
    "metal = dataset.iloc[46839:48942]\n",
    "jazz = dataset.iloc[48942:53276]\n",
    "classical = dataset.iloc[53276:55150]\n",
    "hipHop = dataset.iloc[55150:55584]\n",
    "soulAndReggae = dataset.iloc[55584:59600]\n",
    "\n",
    "classicPopAndRock.name = 'classicPopAndRock'\n",
    "punk.name = 'punk'\n",
    "folk.name = 'folk'\n",
    "pop.name = 'pop'\n",
    "danceAndElectronica.name = 'danceAndElectronica'\n",
    "jazz.name = 'jazz'\n",
    "classical.name = 'classical'\n",
    "hipHop.name = 'hipHop'\n",
    "soulAndReggae.name = 'soulAndReggae'\n",
    "\n",
    "def extractTimbreMeans(df):\n",
    "    avgTimbreDf = df[['avg_timbre1','avg_timbre2','avg_timbre3','avg_timbre4',\n",
    "                      'avg_timbre5','avg_timbre6','avg_timbre7','avg_timbre8',\n",
    "                      'avg_timbre9','avg_timbre10','avg_timbre11','avg_timbre12']]\n",
    "    df['avgTimbreMean'] = avgTimbreDf.sum(axis=1)\n",
    "    varTimbreDf = df[['var_timbre1','var_timbre2','var_timbre3','var_timbre4',\n",
    "                      'var_timbre5','var_timbre6','var_timbre7','var_timbre8',\n",
    "                      'var_timbre9','var_timbre10','var_timbre11','var_timbre12']]\n",
    "    df['varTimbreMean'] = varTimbreDf.sum(axis=1)\n",
    "    return df\n",
    "\n",
    "def extractVarTimbre(df):\n",
    "    varTimbreDf = df[['var_timbre1','var_timbre2','var_timbre3','var_timbre4',\n",
    "                      'var_timbre5','var_timbre6','var_timbre7','var_timbre8',\n",
    "                      'var_timbre9','var_timbre10','var_timbre11','var_timbre12']]\n",
    "    df['mean'] = varTimbreDf.mean(axis=1)\n",
    "    return df\n",
    "\n",
    "def randomSampling(df):\n",
    "    return df.head(10)\n",
    "\n",
    "# classicPopAndRockAvgTimbre = extractAvgTimbre(classicPopAndRock)\n",
    "# punkAvgTimbre = extractAvgTimbre(punk)\n",
    "# folkAvgTimbre = extractAvgTimbre(folk)\n",
    "# popAvgTimbre = extractAvgTimbre(classicPopAndRock)\n",
    "# danceAndElectronicaAvgTimbre = extractAvgTimbre(danceAndElectronica)\n",
    "# metalAvgTimbre = extractAvgTimbre(metal)\n",
    "# jazzAvgTimbre = extractAvgTimbre(jazz)\n",
    "# classicalAvgTimbre = extractAvgTimbre(classical)\n",
    "# hipHopAvgTimbre = extractAvgTimbre(hipHop)\n",
    "# soulAndReggaeAvgTimbre = extractAvgTimbre(soulAndReggae)\n",
    "\n",
    "# classicPopAndRockVarTimbre = extractAvgTimbre(classicPopAndRock)\n",
    "# punkVarTimbre = extractVarTimbre(punk)\n",
    "# folkVarTimbre = extractVarTimbre(folk)\n",
    "# popVarTimbre = extractVarTimbre(classicPopAndRock)\n",
    "# danceAndElectronicaVarTimbre = extractVarTimbre(danceAndElectronica)\n",
    "# metalVarTimbre = extractVarTimbre(metal)\n",
    "# jazzVarTimbre = extractVarTimbre(jazz)\n",
    "# classicalVarTimbre = extractVarTimbre(classical)\n",
    "# hipHopVarTimbre = extractVarTimbre(hipHop)\n",
    "# soulAndReggaeVarTimbre = extractVarTimbre(soulAndReggae)\n",
    "\n",
    "datasetFrames = [randomSampling(classicPopAndRock),randomSampling(punk),\n",
    "                   randomSampling(folk),randomSampling(pop),\n",
    "                   randomSampling(danceAndElectronica),randomSampling(metal),\n",
    "                   randomSampling(jazz),randomSampling(classical),randomSampling(hipHop),\n",
    "                   randomSampling(soulAndReggae)]\n",
    "datasetDataframe = pd.concat(datasetFrames)\n",
    "datasetSample = shuffle(datasetDataframe)\n",
    "avgTimbreSample = extractTimbreMeans(datasetSample)\n",
    "avgTimbre1 = 'avg_timbre9'\n",
    "avgTimbre2 = 'avg_timbre10'\n",
    "#avgTimbreOneSample = avgTimbreSample[['genre',avgTimbre]]\n",
    "\n",
    "fig = px.scatter(avgTimbreSample, x=avgTimbre1, y=avgTimbre2, color='genre')\n",
    "fig.show()\n",
    "\n",
    "# fig = px.box(avgTimbreSample, x=\"genre\", y=avgTimbre1)\n",
    "# fig.show()"
   ]
  },
  {
   "cell_type": "code",
   "execution_count": null,
   "metadata": {
    "scrolled": false
   },
   "outputs": [],
   "source": []
  },
  {
   "cell_type": "code",
   "execution_count": null,
   "metadata": {},
   "outputs": [],
   "source": []
  },
  {
   "cell_type": "code",
   "execution_count": null,
   "metadata": {},
   "outputs": [],
   "source": []
  }
 ],
 "metadata": {
  "kernelspec": {
   "display_name": "Python 3",
   "language": "python",
   "name": "python3"
  },
  "language_info": {
   "codemirror_mode": {
    "name": "ipython",
    "version": 3
   },
   "file_extension": ".py",
   "mimetype": "text/x-python",
   "name": "python",
   "nbconvert_exporter": "python",
   "pygments_lexer": "ipython3",
   "version": "3.7.6"
  }
 },
 "nbformat": 4,
 "nbformat_minor": 4
}
