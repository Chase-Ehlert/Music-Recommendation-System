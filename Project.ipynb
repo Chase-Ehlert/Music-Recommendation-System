{
 "cells": [
  {
   "cell_type": "code",
   "execution_count": 27,
   "metadata": {},
   "outputs": [
    {
     "name": "stdout",
     "output_type": "stream",
     "text": [
      "   avg_timbre1  avg_timbre2  avg_timbre3  avg_timbre4  avg_timbre5  \\\n",
      "0    46.673067    14.613684    14.664215     0.176561    -9.346377   \n",
      "\n",
      "   avg_timbre6  avg_timbre7  avg_timbre8  avg_timbre9  avg_timbre10  \\\n",
      "0   -12.341699    11.183382     7.405288     9.313765      3.201169   \n",
      "\n",
      "   avg_timbre11  avg_timbre12  \n",
      "0     -0.152734      5.809709  \n"
     ]
    }
   ],
   "source": [
    "import pandas as pd\n",
    "\n",
    "dataset = pd.read_csv('msd_genre_dataset0.csv', header=0)\n",
    "\n",
    "del dataset['genre']\n",
    "del dataset['track_id']\n",
    "del dataset['artist_name']\n",
    "del dataset['title']\n",
    "del dataset['loudness']\n",
    "del dataset['tempo']\n",
    "del dataset['time_signature']\n",
    "del dataset['key']\n",
    "del dataset['mode']\n",
    "del dataset['duration']\n",
    "del dataset['var_timbre1']\n",
    "del dataset['var_timbre2']\n",
    "del dataset['var_timbre3']\n",
    "del dataset['var_timbre4']\n",
    "del dataset['var_timbre5']\n",
    "del dataset['var_timbre6']\n",
    "del dataset['var_timbre7']\n",
    "del dataset['var_timbre8']\n",
    "del dataset['var_timbre9']\n",
    "del dataset['var_timbre10']\n",
    "del dataset['var_timbre11']\n",
    "del dataset['var_timbre12']\n",
    "print(dataset.iloc[[0]])"
   ]
  },
  {
   "cell_type": "code",
   "execution_count": null,
   "metadata": {
    "scrolled": false
   },
   "outputs": [],
   "source": []
  },
  {
   "cell_type": "code",
   "execution_count": null,
   "metadata": {},
   "outputs": [],
   "source": []
  },
  {
   "cell_type": "code",
   "execution_count": null,
   "metadata": {},
   "outputs": [],
   "source": []
  }
 ],
 "metadata": {
  "kernelspec": {
   "display_name": "Python 3",
   "language": "python",
   "name": "python3"
  },
  "language_info": {
   "codemirror_mode": {
    "name": "ipython",
    "version": 3
   },
   "file_extension": ".py",
   "mimetype": "text/x-python",
   "name": "python",
   "nbconvert_exporter": "python",
   "pygments_lexer": "ipython3",
   "version": "3.7.6"
  }
 },
 "nbformat": 4,
 "nbformat_minor": 4
}
