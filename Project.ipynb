{
 "cells": [
  {
   "cell_type": "code",
   "execution_count": 100,
   "metadata": {},
   "outputs": [
    {
     "name": "stdout",
     "output_type": "stream",
     "text": [
      "create_genre_dataset.py\n",
      "   by T. Bertin-Mahieux (2011) Columbia University\n",
      "      tb2332@columbia.edu\n",
      "\n",
      "USAGE\n",
      "   ./create_genre_dataset.py <msd dir> <tm.db> <artist_tag.db> <output>\n",
      "PARAMS\n",
      "         msd dir   - main directory \"/data\" of the MSD\n",
      "           tm.db   - track_metadata.db\n",
      "   artist_tag.db   - SQLite db with terms and tags\n",
      "          output   - output dataset in a text file\n"
     ]
    },
    {
     "ename": "SystemExit",
     "evalue": "0",
     "output_type": "error",
     "traceback": [
      "An exception has occurred, use %tb to see the full traceback.\n",
      "\u001b[1;31mSystemExit\u001b[0m\u001b[1;31m:\u001b[0m 0\n"
     ]
    }
   ],
   "source": []
  },
  {
   "cell_type": "code",
   "execution_count": null,
   "metadata": {
    "scrolled": false
   },
   "outputs": [],
   "source": [
    "import pandas as pd\n",
    "\n",
    "dataframeArtist = pd.read_csv('artists.csv', header=0)\n",
    "del dataframeArtist['year_of_birth']\n",
    "del dataframeArtist['country']\n",
    "del dataframeArtist['city']\n",
    "del dataframeArtist['email']\n",
    "del dataframeArtist['zip_code']\n",
    "dataframeAlbum = pd.read_csv('albums.csv', header=0)\n",
    "del dataframeAlbum['year_of_pub']\n",
    "del dataframeAlbum['num_of_tracks']\n",
    "del dataframeAlbum['num_of_sales']\n",
    "del dataframeAlbum['rolling_stone_critic']\n",
    "del dataframeAlbum['mtv_critic']\n",
    "del dataframeAlbum['music_maniac_critic']\n",
    "\n",
    "print(dataframeArtist)\n"
   ]
  },
  {
   "cell_type": "code",
   "execution_count": null,
   "metadata": {},
   "outputs": [],
   "source": [
    "print(dataframeAlbum)"
   ]
  },
  {
   "cell_type": "code",
   "execution_count": null,
   "metadata": {},
   "outputs": [],
   "source": [
    "def getArtistInfo(artistId, artistDataframe):\n",
    "    return artistDataframe.iloc[[artistId - 1]]\n",
    "\n",
    "def getAlbums(artistId, albumDataframe):\n",
    "    return albumDataframe.loc[albumDataframe['artist_id'] == artistId]\n",
    "\n",
    "\n",
    "\n",
    "print(getArtistInfo(1767, dataframeArtist))\n",
    "print(getAlbums(1767, dataframeAlbum))"
   ]
  }
 ],
 "metadata": {
  "kernelspec": {
   "display_name": "Python 3",
   "language": "python",
   "name": "python3"
  },
  "language_info": {
   "codemirror_mode": {
    "name": "ipython",
    "version": 3
   },
   "file_extension": ".py",
   "mimetype": "text/x-python",
   "name": "python",
   "nbconvert_exporter": "python",
   "pygments_lexer": "ipython3",
   "version": "3.7.6"
  }
 },
 "nbformat": 4,
 "nbformat_minor": 4
}
